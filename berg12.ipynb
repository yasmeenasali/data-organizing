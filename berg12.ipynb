{
 "cells": [
  {
   "cell_type": "markdown",
   "metadata": {},
   "source": [
    "# reading tables from berg 2012\n",
    "\n",
    "[link](https://iopscience.iop.org/article/10.1088/0004-637X/754/2/98#apj433966t4)"
   ]
  },
  {
   "cell_type": "code",
   "execution_count": 119,
   "metadata": {},
   "outputs": [],
   "source": [
    "import numpy as np\n",
    "import pandas as pd\n",
    "import astropy"
   ]
  },
  {
   "cell_type": "markdown",
   "metadata": {},
   "source": [
    "# Table 1"
   ]
  },
  {
   "cell_type": "code",
   "execution_count": 130,
   "metadata": {},
   "outputs": [
    {
     "name": "stderr",
     "output_type": "stream",
     "text": [
      "/var/folders/g_/kxb_65m159995chtyg4q96440000gn/T/ipykernel_74613/227386655.py:1: ParserWarning: Falling back to the 'python' engine because the 'c' engine does not support skipfooter; you can avoid this warning by specifying engine='python'.\n",
      "  raw_df = pd.read_csv('data/apj433966t1_ascii.txt', header = None, skipfooter = 6, skiprows = 6, sep = '\\t+')\n"
     ]
    }
   ],
   "source": [
    "raw_df = pd.read_csv('data/apj433966t1_ascii.txt', header = None, skipfooter = 6, skiprows = 6, sep = '\\t+')\n",
    "columns = ['Galaxy', 'RA', 'DEC', 'F_4.5', 'F_K_s', 'D', 'Ref', 'M_B', 'M_4.5', 'M_K_s', 'B-V', 'log(L_4.5)', 'log(M_star)']\n",
    "raw_df.columns = columns"
   ]
  },
  {
   "cell_type": "code",
   "execution_count": 131,
   "metadata": {},
   "outputs": [],
   "source": [
    "clean_df = raw_df[['Galaxy', 'RA', 'DEC']].copy()\n",
    "\n",
    "cols_to_split = ['F_K_s']\n",
    "\n",
    "#first, for cols w upper limits \n",
    "for key in cols_to_split:\n",
    "    temp_df = raw_df[key].str.split(' ', expand = True).copy()\n",
    "    \n",
    "    value_temp_df = temp_df[0].str.split('<', expand = True).replace(to_replace='', value=np.nan).astype(float)\n",
    "    clean_df[key] = value_temp_df[0]\n",
    "    ul_key = f'{key}_upper_limit'\n",
    "    clean_df[ul_key] = value_temp_df[1]\n",
    "\n",
    "    err_key = f'{key}_err'\n",
    "    clean_df[err_key] = temp_df[2].replace(to_replace='', value=np.nan).astype(float)\n",
    "\n",
    "cols_to_split = ['D', 'M_K_s', 'log(L_4.5)', 'log(M_star)']\n",
    "\n",
    "#then, for cols without upper limits \n",
    "for key in cols_to_split:\n",
    "    temp_df = raw_df[key].str.split(' ', expand = True).copy()\n",
    "    \n",
    "    clean_df[key] = temp_df[0].replace(to_replace='', value=np.nan).astype(float)\n",
    "\n",
    "    err_key = f'{key}_err'\n",
    "    clean_df[err_key] = temp_df[2].replace(to_replace='', value=np.nan).astype(float)\n",
    "\n",
    "\n",
    "cols_to_split = ['M_B', 'M_4.5']\n",
    "\n",
    "#then, for cols with random appended strings in err cols (refs) \n",
    "for key in cols_to_split:\n",
    "    temp_df = raw_df[key].str.split(' ', expand = True).copy()\n",
    "    \n",
    "    clean_df[key] = temp_df[0].astype(float)\n",
    "\n",
    "    err_key = f'{key}_err'\n",
    "    err_temp_df = temp_df[2].str.split('^', expand = True)\n",
    "    clean_df[err_key] = err_temp_df[0].replace(to_replace='', value=np.nan).astype(float)\n",
    "\n",
    "cols_to_split = ['B-V']\n",
    "\n",
    "#then, for cols with random appended strings in value cols (refs) \n",
    "for key in cols_to_split:\n",
    "    temp_df = raw_df[key].str.split(' ', expand = True).copy()\n",
    "    value_temp_df = temp_df[0].str.split('^', expand = True)\n",
    "    clean_df[key] = value_temp_df[0].replace(to_replace='', value=np.nan).astype(float)\n",
    "\n",
    "    err_key = f'{key}_err'\n",
    "    err_temp_df = temp_df[2].str.split('^', expand = True)\n",
    "    clean_df[err_key] = err_temp_df[0].replace(to_replace='', value=np.nan).astype(float)\n",
    "\n"
   ]
  },
  {
   "cell_type": "markdown",
   "metadata": {},
   "source": [
    "Fix RA + DEC to decimal degrees "
   ]
  },
  {
   "cell_type": "code",
   "execution_count": 132,
   "metadata": {},
   "outputs": [],
   "source": [
    "from astropy.coordinates import SkyCoord\n",
    "import astropy.units as u "
   ]
  },
  {
   "cell_type": "code",
   "execution_count": 142,
   "metadata": {},
   "outputs": [],
   "source": [
    "sc = SkyCoord(clean_df['RA'], clean_df['DEC'], unit=(u.hourangle, u.deg))\n",
    "clean_df['RA'] = sc.ra.value\n",
    "clean_df['DEC'] = sc.dec.value"
   ]
  },
  {
   "cell_type": "code",
   "execution_count": 143,
   "metadata": {},
   "outputs": [],
   "source": [
    "clean_df.to_csv('cleaned/table1.csv', index=False)"
   ]
  },
  {
   "cell_type": "markdown",
   "metadata": {},
   "source": [
    "# Table 3"
   ]
  },
  {
   "cell_type": "code",
   "execution_count": 110,
   "metadata": {},
   "outputs": [
    {
     "name": "stderr",
     "output_type": "stream",
     "text": [
      "/var/folders/g_/kxb_65m159995chtyg4q96440000gn/T/ipykernel_74613/287672149.py:1: ParserWarning: Falling back to the 'python' engine because the 'c' engine does not support skipfooter; you can avoid this warning by specifying engine='python'.\n",
      "  raw_df = pd.read_csv('data/apj433966t3_ascii.txt', header = None, skipfooter = 1, skiprows = 8, sep = '\\t+')\n"
     ]
    }
   ],
   "source": [
    "raw_df = pd.read_csv('data/apj433966t3_ascii.txt', header = None, skipfooter = 1, skiprows = 8, sep = '\\t+')\n",
    "columns = ['Ion', 'UGC 521 A',  'UGC 695 E', 'UGC 1056 A', 'UGC 1056 B', 'UGC 1176 A', \n",
    "           'NGC 784 A', 'NGC 784 B', 'UGC 2716 A', 'KKH 037 A', 'NGC 2537 A']\n",
    "raw_df.columns = columns\n"
   ]
  },
  {
   "cell_type": "code",
   "execution_count": 116,
   "metadata": {},
   "outputs": [],
   "source": [
    "clean_df = raw_df[['Ion']].copy()\n",
    "\n",
    "# split +/-\n",
    "for key in columns[1:]:\n",
    "    temp_df = raw_df[key].str.split(' ', expand = True).copy()\n",
    "    \n",
    "    clean_df[key] = temp_df[0].replace(to_replace='', value=np.nan).astype(float)\n",
    "\n",
    "    err_key = f'{key} err'\n",
    "    clean_df[err_key] = temp_df[2].replace(to_replace='', value=np.nan).astype(float)\n"
   ]
  },
  {
   "cell_type": "code",
   "execution_count": 118,
   "metadata": {},
   "outputs": [],
   "source": [
    "clean_df.to_csv('cleaned/table3_test.csv', index=False)"
   ]
  },
  {
   "cell_type": "markdown",
   "metadata": {},
   "source": [
    "# Table 4"
   ]
  },
  {
   "cell_type": "code",
   "execution_count": 145,
   "metadata": {},
   "outputs": [
    {
     "name": "stderr",
     "output_type": "stream",
     "text": [
      "/var/folders/g_/kxb_65m159995chtyg4q96440000gn/T/ipykernel_74613/724386464.py:1: ParserWarning: Falling back to the 'python' engine because the 'c' engine does not support skipfooter; you can avoid this warning by specifying engine='python'.\n",
      "  raw_df = pd.read_csv('data/apj433966t4_ascii.txt', header = None, skipfooter = 1, skiprows = 6, sep = '\\t+')\n"
     ]
    }
   ],
   "source": [
    "raw_df = pd.read_csv('data/apj433966t4_ascii.txt', header = None, skipfooter = 1, skiprows = 6, sep = '\\t+')\n",
    "columns = ['Galaxy','Halpha Region','t_2', 't_3', 'O+/H+', 'O++/H+', 'O/H', '12 + log(O/H)', 'N+/H+', 'log(N/O)', 'N/H']\n",
    "raw_df.columns = columns"
   ]
  },
  {
   "cell_type": "code",
   "execution_count": 151,
   "metadata": {},
   "outputs": [],
   "source": [
    "clean_df = raw_df[['Galaxy', 'Halpha Region']].copy()\n",
    "\n",
    "# split +/-\n",
    "for key in columns[2:]:\n",
    "    temp_df = raw_df[key].str.split(' ', expand = True).copy()\n",
    "    \n",
    "    clean_df[key] = temp_df[0].replace(to_replace='', value=np.nan).astype(float)\n",
    "\n",
    "    err_key = f'{key}_err'\n",
    "    clean_df[err_key] = temp_df[2].replace(to_replace='', value=np.nan).astype(float)"
   ]
  },
  {
   "cell_type": "code",
   "execution_count": 190,
   "metadata": {},
   "outputs": [],
   "source": [
    "table1 = pd.read_csv('cleaned/table1.csv')\n",
    "clean_df_with_mass = clean_df.set_index('Galaxy').join(table1[['Galaxy', 'log(M_star)', 'log(M_star)_err']].set_index('Galaxy'), how='left')\n",
    "clean_df_with_mass.reset_index(inplace=True)"
   ]
  },
  {
   "cell_type": "code",
   "execution_count": 194,
   "metadata": {},
   "outputs": [],
   "source": [
    "clean_df_with_mass.to_csv('cleaned/table4_with_mass.csv', index=False)"
   ]
  },
  {
   "cell_type": "code",
   "execution_count": null,
   "metadata": {},
   "outputs": [],
   "source": []
  },
  {
   "cell_type": "code",
   "execution_count": null,
   "metadata": {},
   "outputs": [],
   "source": []
  }
 ],
 "metadata": {
  "kernelspec": {
   "display_name": "base",
   "language": "python",
   "name": "python3"
  },
  "language_info": {
   "codemirror_mode": {
    "name": "ipython",
    "version": 3
   },
   "file_extension": ".py",
   "mimetype": "text/x-python",
   "name": "python",
   "nbconvert_exporter": "python",
   "pygments_lexer": "ipython3",
   "version": "3.9.12"
  },
  "orig_nbformat": 4
 },
 "nbformat": 4,
 "nbformat_minor": 2
}
